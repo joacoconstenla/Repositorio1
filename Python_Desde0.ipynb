{
  "nbformat": 4,
  "nbformat_minor": 0,
  "metadata": {
    "colab": {
      "provenance": [],
      "authorship_tag": "ABX9TyPqwYJOdV75WV//bPTY5spL",
      "include_colab_link": true
    },
    "kernelspec": {
      "name": "python3",
      "display_name": "Python 3"
    },
    "language_info": {
      "name": "python"
    }
  },
  "cells": [
    {
      "cell_type": "markdown",
      "metadata": {
        "id": "view-in-github",
        "colab_type": "text"
      },
      "source": [
        "<a href=\"https://colab.research.google.com/github/joacoconstenla/Repositorio1/blob/main/Python_Desde0.ipynb\" target=\"_parent\"><img src=\"https://colab.research.google.com/assets/colab-badge.svg\" alt=\"Open In Colab\"/></a>"
      ]
    },
    {
      "cell_type": "code",
      "execution_count": null,
      "metadata": {
        "colab": {
          "base_uri": "https://localhost:8080/"
        },
        "id": "WSCQzmoyE21Z",
        "outputId": "df00c8df-6f05-4ac9-dcb5-e29132839184"
      },
      "outputs": [
        {
          "output_type": "stream",
          "name": "stdout",
          "text": [
            "7\n",
            "n\n",
            "oaqu\n",
            "Joaquin\n"
          ]
        }
      ],
      "source": [
        "nombre = \"Joaquin\"\n",
        "print(len(nombre))\n",
        "print(nombre[len(nombre) - 1])\n",
        "print(nombre[1:5])\n",
        "nombre.replace(\"Joaquin\", \"Pri\")\n",
        "print(nombre)"
      ]
    },
    {
      "cell_type": "markdown",
      "source": [
        "# Sección nueva"
      ],
      "metadata": {
        "id": "vWKKVOufdfnI"
      }
    },
    {
      "cell_type": "code",
      "source": [
        "from google.colab import drive\n",
        "drive.mount('/content/drive')"
      ],
      "metadata": {
        "id": "V75TgXmMdjNb"
      },
      "execution_count": null,
      "outputs": []
    },
    {
      "cell_type": "code",
      "source": [
        "club = \"Valaz\"\n",
        "club = club.replace(\"a\", \"e\")\n",
        "print(club)"
      ],
      "metadata": {
        "colab": {
          "base_uri": "https://localhost:8080/"
        },
        "id": "dYe7-3hZNjhz",
        "outputId": "86b3ae12-11f4-4b1b-fa48-b12a464df35e"
      },
      "execution_count": null,
      "outputs": [
        {
          "output_type": "stream",
          "name": "stdout",
          "text": [
            "Velez\n"
          ]
        }
      ]
    },
    {
      "cell_type": "code",
      "source": [
        "nota = int(input(\"Ingrese su nota \"))\n",
        "if nota > 4 and nota < 10:\n",
        "  print(\"Ud ha aprobado\")\n",
        "if nota < 4:\n",
        "  print(\"Ud ha desaprobado\")\n",
        "if nota > 10 or nota < 0:\n",
        "  print(\"Inrese un numero entre el 1 y el 10\")\n"
      ],
      "metadata": {
        "colab": {
          "base_uri": "https://localhost:8080/"
        },
        "id": "_enTAgs8PbAC",
        "outputId": "364065cf-1e48-405a-9e00-86d1b9dd8a32"
      },
      "execution_count": null,
      "outputs": [
        {
          "output_type": "stream",
          "name": "stdout",
          "text": [
            "Ingrese su nota 3\n",
            "Ud ha desaprobado\n"
          ]
        }
      ]
    },
    {
      "cell_type": "code",
      "source": [
        "lista = [1, 2, 3, 4]\n",
        "print(lista[0])\n",
        "lista[2] = 45\n",
        "lista\n",
        "lista [0:3]\n",
        "lista.insert(0, 100)\n",
        "lista.append(12) #lo agrega ultimo\n",
        "lista.extend([2, 33, 45])\n",
        "lista\n",
        "del lista[0]\n",
        "lista\n",
        "lista.remove(2) #borra solo el primer dos\n",
        "lista\n",
        "lista.count(45)\n",
        "lista.index(12)\n",
        "lista.sort()\n",
        "lista.sort(reverse = True)\n",
        "lista"
      ],
      "metadata": {
        "colab": {
          "base_uri": "https://localhost:8080/"
        },
        "id": "RbS88P5fP6Jj",
        "outputId": "dad2041a-bd26-48d4-c85c-a5e64227db1b"
      },
      "execution_count": null,
      "outputs": [
        {
          "output_type": "stream",
          "name": "stdout",
          "text": [
            "1\n"
          ]
        },
        {
          "output_type": "execute_result",
          "data": {
            "text/plain": [
              "[45, 45, 33, 12, 4, 2, 1]"
            ]
          },
          "metadata": {},
          "execution_count": 12
        }
      ]
    },
    {
      "cell_type": "code",
      "source": [
        "persona1 = [ \"Joaquin\", 22]\n",
        "persona2 = [\"Priscila\", 21]\n",
        "personas = [persona1] + [persona2]\n",
        "personas\n",
        "personas[0][1]"
      ],
      "metadata": {
        "colab": {
          "base_uri": "https://localhost:8080/"
        },
        "id": "B7LgdJrPTx8X",
        "outputId": "cfb6fcd4-6d45-44f5-f5a4-7d26ea11f251"
      },
      "execution_count": null,
      "outputs": [
        {
          "output_type": "execute_result",
          "data": {
            "text/plain": [
              "22"
            ]
          },
          "metadata": {},
          "execution_count": 15
        }
      ]
    },
    {
      "cell_type": "code",
      "source": [
        "#CONJUNTOS (no se pueden repetir valores dentro de estos)\n",
        "edades = {10, 22, 32, 45, 22}\n",
        "edades #aca te saca el segundo 22\n",
        "edades.add(100)\n",
        "edades.remove(45)\n",
        "nombres = {\"Joaquin\", \"Mateo\", \"Tiaga\", \"Depas\"}\n",
        "nombres2 = {\"Joaquin\", \"Mateo\"}\n",
        "x = edades.union(nombres)\n",
        "y = nombres.intersection(nombres2) #Es como el centro del diagrama de Ven\n",
        "z = nombres.difference(nombres2) #aca a nombres le quitas los que se repiten en nombres2\n",
        "nombres2.issubset(nombres) #Preguntas si nombres2 esta adentro de nombres\n",
        "nombres.issuperset(nombres2)"
      ],
      "metadata": {
        "colab": {
          "base_uri": "https://localhost:8080/"
        },
        "id": "LQIwRTxTVbQI",
        "outputId": "96c41643-bbac-4d95-c7fb-8324bd8bc167"
      },
      "execution_count": null,
      "outputs": [
        {
          "output_type": "execute_result",
          "data": {
            "text/plain": [
              "True"
            ]
          },
          "metadata": {},
          "execution_count": 28
        }
      ]
    },
    {
      "cell_type": "code",
      "source": [
        "#Tuplas no le podes agregar ni sacar elementos\n",
        "tupla = (\"Joa\", 22)\n",
        "#tupla[0] = \"Jua\" #da error ya que no se puede modificar la tupla\n",
        "lista = list(tupla) #convertis en lista\n",
        "lista[1] = 23\n",
        "tupla2 = tuple(lista) #convertis en tupla\n",
        "tupla2\n",
        "conjunto = set(tupla2) #convertis en conjunto\n",
        "conjunto"
      ],
      "metadata": {
        "colab": {
          "base_uri": "https://localhost:8080/"
        },
        "id": "a_wHiF7hbSoC",
        "outputId": "66c4558c-2420-4e93-9b66-e20357ae4386"
      },
      "execution_count": null,
      "outputs": [
        {
          "output_type": "execute_result",
          "data": {
            "text/plain": [
              "{23, 'Joa'}"
            ]
          },
          "metadata": {},
          "execution_count": 36
        }
      ]
    }
  ]
}